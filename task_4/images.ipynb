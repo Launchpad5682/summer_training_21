{
 "metadata": {
  "language_info": {
   "codemirror_mode": {
    "name": "ipython",
    "version": 3
   },
   "file_extension": ".py",
   "mimetype": "text/x-python",
   "name": "python",
   "nbconvert_exporter": "python",
   "pygments_lexer": "ipython3",
   "version": "3.7.10"
  },
  "orig_nbformat": 2,
  "kernelspec": {
   "name": "python3710jvsc74a57bd053c72d0039ada9c1d34dd1733f66130047a118ae04fa085bf08fa89049564cc7",
   "display_name": "Python 3.7.10 64-bit ('cv_env': conda)"
  },
  "metadata": {
   "interpreter": {
    "hash": "53c72d0039ada9c1d34dd1733f66130047a118ae04fa085bf08fa89049564cc7"
   }
  }
 },
 "nbformat": 4,
 "nbformat_minor": 2,
 "cells": [
  {
   "source": [
    "🔅 Create image by yourself Using Python Code\n",
    "\n",
    "🔅 image crop some part of both image and swap it.\n",
    "\n",
    "🔅 image and combine it to form single image. For example collage"
   ],
   "cell_type": "markdown",
   "metadata": {}
  },
  {
   "cell_type": "code",
   "execution_count": 64,
   "metadata": {},
   "outputs": [],
   "source": [
    "import cv2\n",
    "import numpy as np"
   ]
  },
  {
   "cell_type": "code",
   "execution_count": 75,
   "metadata": {},
   "outputs": [],
   "source": [
    "# white background \n",
    "# np.unint8 gives unsigned integer from 0 to 255\n",
    "image = np.ones((480,640,3),np.uint8)*255"
   ]
  },
  {
   "cell_type": "code",
   "execution_count": 76,
   "metadata": {},
   "outputs": [],
   "source": [
    "cv2.imshow('image',image)\n",
    "cv2.waitKey()\n",
    "cv2.destroyAllWindows()"
   ]
  },
  {
   "cell_type": "code",
   "execution_count": 77,
   "metadata": {},
   "outputs": [],
   "source": [
    "triangle_pnts = np.array([(319,50),(165,160),(476,160)])\n",
    "image = cv2.drawContours(image, [triangle_pnts],0,(0,0,255),-1)"
   ]
  },
  {
   "cell_type": "code",
   "execution_count": 78,
   "metadata": {},
   "outputs": [],
   "source": [
    "cv2.imshow('image',image)\n",
    "cv2.waitKey()\n",
    "cv2.destroyAllWindows()"
   ]
  },
  {
   "cell_type": "code",
   "execution_count": 79,
   "metadata": {},
   "outputs": [],
   "source": [
    "bgr_rectangle = (0,255,0)\n",
    "start_point = (213,160)\n",
    "end_point = (426,360)\n",
    "image = cv2.rectangle(image,start_point,end_point,bgr_rectangle,-1)\n",
    "\n"
   ]
  },
  {
   "cell_type": "code",
   "execution_count": 80,
   "metadata": {},
   "outputs": [],
   "source": [
    "cv2.imshow('image',image)\n",
    "cv2.waitKey()\n",
    "cv2.destroyAllWindows()"
   ]
  },
  {
   "cell_type": "code",
   "execution_count": 81,
   "metadata": {},
   "outputs": [],
   "source": [
    "bgr_door = (255,0,0)\n",
    "start_point = (284,240)\n",
    "end_point = (355,360)\n",
    "image = cv2.rectangle(image,start_point,end_point,bgr_door,-1)"
   ]
  },
  {
   "cell_type": "code",
   "execution_count": 82,
   "metadata": {},
   "outputs": [],
   "source": [
    "cv2.imshow('image',image)\n",
    "cv2.waitKey()\n",
    "cv2.destroyAllWindows()"
   ]
  },
  {
   "cell_type": "code",
   "execution_count": 83,
   "metadata": {},
   "outputs": [],
   "source": [
    "bgr_window = (255,126,0)\n",
    "start_point = (255,180)\n",
    "end_point = (305,210)\n",
    "image = cv2.rectangle(image,start_point,end_point,bgr_window,-1)\n",
    "\n",
    "bgr_window = (255,126,0)\n",
    "start_point = (339,180)\n",
    "end_point = (389,210)\n",
    "image = cv2.rectangle(image,start_point,end_point,bgr_window,-1)"
   ]
  },
  {
   "cell_type": "code",
   "execution_count": 84,
   "metadata": {},
   "outputs": [],
   "source": [
    "cv2.imshow('image',image)\n",
    "cv2.waitKey()\n",
    "cv2.destroyAllWindows()"
   ]
  },
  {
   "cell_type": "code",
   "execution_count": null,
   "metadata": {},
   "outputs": [],
   "source": []
  }
 ]
}